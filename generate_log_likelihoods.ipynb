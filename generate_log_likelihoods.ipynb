{
 "cells": [
  {
   "cell_type": "code",
   "execution_count": 3,
   "metadata": {},
   "outputs": [
    {
     "data": {
      "text/plain": [
       "<torch._C.Generator at 0x7c552410cfb0>"
      ]
     },
     "execution_count": 3,
     "metadata": {},
     "output_type": "execute_result"
    }
   ],
   "source": [
    "import os\n",
    "import random\n",
    "import numpy as np\n",
    "import torch\n",
    "import pickle\n",
    "import json\n",
    "\n",
    "# Please make sure you are using CUDA enabled GPU for this project\n",
    "device = 'cuda'\n",
    "\n",
    "# Setting the seed value ensures that the results are reproducible across different runs\n",
    "seed_val = 10\n",
    "\n",
    "# Ensuring that the seed is set for Python's hashing, random operations, NumPy, and PyTorch\n",
    "os.environ['PYTHONHASHSEED'] = str(seed_val)\n",
    "random.seed(seed_val)\n",
    "np.random.seed(seed_val)\n",
    "torch.manual_seed(seed_val)"
   ]
  },
  {
   "cell_type": "code",
   "execution_count": 1,
   "metadata": {},
   "outputs": [
    {
     "ename": "NameError",
     "evalue": "name 'torch' is not defined",
     "output_type": "error",
     "traceback": [
      "\u001b[0;31m---------------------------------------------------------------------------\u001b[0m",
      "\u001b[0;31mNameError\u001b[0m                                 Traceback (most recent call last)",
      "Cell \u001b[0;32mIn[1], line 6\u001b[0m\n\u001b[1;32m      1\u001b[0m \u001b[38;5;28;01mfrom\u001b[39;00m\u001b[38;5;250m \u001b[39m\u001b[38;5;21;01mtransformers\u001b[39;00m\u001b[38;5;250m \u001b[39m\u001b[38;5;28;01mimport\u001b[39;00m AutoModelForCausalLM, AutoTokenizer\n\u001b[1;32m      3\u001b[0m model \u001b[38;5;241m=\u001b[39m model \u001b[38;5;241m=\u001b[39m AutoModelForCausalLM\u001b[38;5;241m.\u001b[39mfrom_pretrained(\n\u001b[1;32m      4\u001b[0m         \u001b[38;5;124m\"\u001b[39m\u001b[38;5;124mgoogle/gemma-2-2b\u001b[39m\u001b[38;5;124m\"\u001b[39m,\n\u001b[1;32m      5\u001b[0m         device_map\u001b[38;5;241m=\u001b[39m\u001b[38;5;124m\"\u001b[39m\u001b[38;5;124mcuda\u001b[39m\u001b[38;5;124m\"\u001b[39m,\n\u001b[0;32m----> 6\u001b[0m         torch_dtype\u001b[38;5;241m=\u001b[39m\u001b[43mtorch\u001b[49m\u001b[38;5;241m.\u001b[39mfloat16\n\u001b[1;32m      7\u001b[0m     )\u001b[38;5;241m.\u001b[39mto(\u001b[38;5;124m'\u001b[39m\u001b[38;5;124mcuda\u001b[39m\u001b[38;5;124m'\u001b[39m)\n\u001b[1;32m      9\u001b[0m tokenizer \u001b[38;5;241m=\u001b[39m AutoTokenizer\u001b[38;5;241m.\u001b[39mfrom_pretrained(\u001b[38;5;124m\"\u001b[39m\u001b[38;5;124mgoogle/gemma-2-2b\u001b[39m\u001b[38;5;124m\"\u001b[39m)\n",
      "\u001b[0;31mNameError\u001b[0m: name 'torch' is not defined"
     ]
    }
   ],
   "source": [
    "from transformers import AutoModelForCausalLM, AutoTokenizer\n",
    "\n",
    "model = model = AutoModelForCausalLM.from_pretrained(\n",
    "        \"google/gemma-2-2b\",\n",
    "        device_map=\"cuda\",\n",
    "        torch_dtype=torch.float16\n",
    "    ).to('cuda')\n",
    "\n",
    "tokenizer = AutoTokenizer.from_pretrained(\"google/gemma-2-2b\")"
   ]
  },
  {
   "cell_type": "code",
   "execution_count": null,
   "metadata": {},
   "outputs": [],
   "source": [
    "with open('data/activations/similarity_scores_20.pkl', 'rb') as infile:\n",
    "    similarities_dict = pickle.load(infile)\n",
    "with open('data/activations/generations_and_judgments_with_sae_20.json') as infile:\n",
    "    sequences = json.loads(infile.read())"
   ]
  },
  {
   "cell_type": "code",
   "execution_count": null,
   "metadata": {},
   "outputs": [],
   "source": [
    "def compute_neg_log_likelihoods(model, responses):\n",
    "    \"\"\"This function computes various negative log-likelihoods and other metrics for a given set of responses.\"\"\"\n",
    "    with torch.no_grad():\n",
    "        result = []\n",
    "        for sample_key in responses:\n",
    "            id_ = sample_key\n",
    "            sample = responses[sample_key]\n",
    "            \n",
    "            result_dict = {}\n",
    "            prompt = sample['prompt']\n",
    "            generations = tokenizer(sample['generations'])['input_ids']\n",
    "            print(generation.shape)\n",
    "            \n",
    "            # Initialize tensors to store various metrics\n",
    "            average_neg_log_likelihoods, average_unconditioned_neg_log_likelihoods, neg_log_likelihoods, neg_unconditioned_log_likelihoods, pointwise_mutual_information = torch.zeros((generations.shape[0],)), torch.zeros((generations.shape[0],)), torch.zeros((generations.shape[0],)), torch.zeros((generations.shape[0],)), torch.zeros((generations.shape[0],))\n",
    "            sequence_embeddings = []\n",
    "\n",
    "            # Iterating through each generation and compute metrics\n",
    "            for generation_index in range(generations.shape[0]):\n",
    "                prompt = tokenizer(prompt)['input_ids']\n",
    "                prompt = prompt[prompt != tokenizer.pad_token_id]\n",
    "                generation = generations[generation_index][generations[generation_index] != tokenizer.pad_token_id]\n",
    "\n",
    "                # This computation of the negative log likelihoods follows this tutorial: https://huggingface.co/docs/transformers/perplexity\n",
    "                # Compute the negative log likelihoods following the Hugging Face tutorial\n",
    "                target_ids = generation.clone()\n",
    "                target_ids[:len(prompt)] = -100\n",
    "                model_output = model(torch.reshape(generation, (1, -1)), labels=target_ids, output_hidden_states=True)\n",
    "                generation_only = generation.clone()[(len(prompt) - 1):]\n",
    "                unconditioned_model_output = model(torch.reshape(generation_only, (1, -1)), labels=generation_only, output_hidden_states=True)\n",
    "                hidden_states = model_output['hidden_states']\n",
    "                average_neg_log_likelihood = model_output['loss']\n",
    "\n",
    "                # Compute various likelihoods and information metrics\n",
    "                average_unconditioned_neg_log_likelihood = unconditioned_model_output['loss']\n",
    "                average_neg_log_likelihoods[generation_index] = average_neg_log_likelihood\n",
    "                average_unconditioned_neg_log_likelihoods[generation_index] = average_unconditioned_neg_log_likelihood\n",
    "                neg_log_likelihoods[generation_index] = average_neg_log_likelihood * (len(generation) - len(prompt))\n",
    "                neg_unconditioned_log_likelihoods[generation_index] = average_unconditioned_neg_log_likelihood * (\n",
    "                    len(generation) - len(prompt))\n",
    "                pointwise_mutual_information[generation_index] = -neg_log_likelihoods[\n",
    "                    generation_index] + neg_unconditioned_log_likelihoods[generation_index]\n",
    "\n",
    "                # Compute the average of the last layer's token embeddings\n",
    "                average_of_last_layer_token_embeddings = torch.mean(hidden_states[-1], dim=1)\n",
    "                sequence_embeddings.append(average_of_last_layer_token_embeddings)\n",
    "\n",
    "            # Compute metrics for the most likely generations\n",
    "            most_likely_generation = sample['most_likely_generation_ids'].to(device)\n",
    "            target_ids = most_likely_generation.clone()\n",
    "            target_ids[:len(prompt)] = -100\n",
    "            model_output = model(torch.reshape(most_likely_generation, (1, -1)), labels=target_ids, output_hidden_states=True)\n",
    "            hidden_states = model_output['hidden_states']\n",
    "            average_neg_log_likelihood_of_most_likely_gen = model_output['loss']\n",
    "            most_likely_generation_embedding = torch.mean(hidden_states[-1], dim=1)\n",
    "\n",
    "            # Compute metrics for the second most likely generation\n",
    "            second_most_likely_generation = sample['second_most_likely_generation_ids'].to(device)\n",
    "            target_ids = second_most_likely_generation.clone()\n",
    "            target_ids[:len(prompt)] = -100\n",
    "            model_output = model(torch.reshape(second_most_likely_generation, (1, -1)), labels=target_ids, output_hidden_states=True)\n",
    "            hidden_states = model_output['hidden_states']\n",
    "            average_neg_log_likelihood_of_second_most_likely_gen = model_output['loss']\n",
    "\n",
    "            neg_log_likelihood_of_most_likely_gen = average_neg_log_likelihood_of_most_likely_gen * (len(most_likely_generation) - len(prompt))\n",
    "\n",
    "            sequence_embeddings = torch.stack(sequence_embeddings)\n",
    "            \n",
    "            # Compile all the computed metrics into a dictionary\n",
    "            result_dict.update({\n",
    "                'prompt': prompt,\n",
    "                'generations': generations,\n",
    "                'average_neg_log_likelihoods': average_neg_log_likelihoods,\n",
    "                'neg_log_likelihoods': neg_log_likelihoods,\n",
    "                'sequence_embeddings': most_likely_generation_embedding,\n",
    "                'most_likely_sequence_embedding': most_likely_generation,\n",
    "                'average_unconditioned_neg_log_likelihoods': average_unconditioned_neg_log_likelihoods,\n",
    "                'neg_unconditioned_log_likelihoods': neg_unconditioned_log_likelihoods,\n",
    "                'pointwise_mutual_information': pointwise_mutual_information,\n",
    "                'average_neg_log_likelihood_of_most_likely_gen': average_neg_log_likelihood_of_most_likely_gen,\n",
    "                'average_neg_log_likelihood_of_second_most_likely_gen': average_neg_log_likelihood_of_second_most_likely_gen,\n",
    "                'neg_log_likelihood_of_most_likely_gen': neg_log_likelihood_of_most_likely_gen,\n",
    "                'semantic_set_ids': torch.tensor(similarities_dict[id_[0]]['semantic_set_ids'], device=device),\n",
    "                'id': id_\n",
    "            })\n",
    "            \n",
    "            result.append(result_dict)\n",
    "\n",
    "        return result"
   ]
  },
  {
   "cell_type": "code",
   "execution_count": null,
   "metadata": {},
   "outputs": [],
   "source": [
    "likelihoods = compute_neg_log_likelihoods(model, sequences)\n",
    "with open(f'data/activations/likelihoods.pkl','wb') as outfile:\n",
    "    pickle.dump(likelihoods, outfile)"
   ]
  }
 ],
 "metadata": {
  "kernelspec": {
   "display_name": ".venv",
   "language": "python",
   "name": "python3"
  },
  "language_info": {
   "codemirror_mode": {
    "name": "ipython",
    "version": 3
   },
   "file_extension": ".py",
   "mimetype": "text/x-python",
   "name": "python",
   "nbconvert_exporter": "python",
   "pygments_lexer": "ipython3",
   "version": "3.10.12"
  }
 },
 "nbformat": 4,
 "nbformat_minor": 2
}
