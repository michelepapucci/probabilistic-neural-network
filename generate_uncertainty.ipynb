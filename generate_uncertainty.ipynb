{
 "cells": [
  {
   "cell_type": "code",
   "execution_count": 1,
   "metadata": {},
   "outputs": [],
   "source": [
    "import os\n",
    "import random\n",
    "import numpy as np\n",
    "import torch\n",
    "\n",
    "# Please make sure you are using CUDA enabled GPU for this project\n",
    "device = 'cuda'\n",
    "\n",
    "# Setting the seed value ensures that the results are reproducible across different runs\n",
    "seed_val = 10\n",
    "\n",
    "# Ensuring that the seed is set for Python's hashing, random operations, NumPy, and PyTorch\n",
    "os.environ['PYTHONHASHSEED'] = str(seed_val)\n",
    "random.seed(seed_val)\n",
    "np.random.seed(seed_val)\n",
    "torch.manual_seed(seed_val)\n",
    "\n",
    "folder = \"data/activations\""
   ]
  },
  {
   "cell_type": "code",
   "execution_count": 2,
   "metadata": {},
   "outputs": [
    {
     "data": {
      "application/vnd.jupyter.widget-view+json": {
       "model_id": "128a95ba55cb4b59a6d069cd3ddb1984",
       "version_major": 2,
       "version_minor": 0
      },
      "text/plain": [
       "Loading checkpoint shards:   0%|          | 0/3 [00:00<?, ?it/s]"
      ]
     },
     "metadata": {},
     "output_type": "display_data"
    },
    {
     "name": "stderr",
     "output_type": "stream",
     "text": [
      "/home/mpapucci/probabilistic-neural-network/.venv/lib/python3.10/site-packages/torch/cuda/__init__.py:734: UserWarning: Can't initialize NVML\n",
      "  warnings.warn(\"Can't initialize NVML\")\n"
     ]
    }
   ],
   "source": [
    "from transformers import AutoModelForCausalLM, AutoTokenizer\n",
    "\n",
    "# Getting the model from params and loading it to the GPU\n",
    "# Since we will be using the same model for other notebooks, we will save it in the cache directory\n",
    "model = AutoModelForCausalLM.from_pretrained(\n",
    "        \"google/gemma-2-2b\",\n",
    "        device_map='cuda:0',\n",
    "        torch_dtype=torch.float16\n",
    "    ).to('cuda:0')\n",
    "\n",
    "generation_tokenizer = AutoTokenizer.from_pretrained(\"google/gemma-2-2b\")"
   ]
  },
  {
   "cell_type": "code",
   "execution_count": 3,
   "metadata": {},
   "outputs": [],
   "source": [
    "import json\n",
    "with open(f'{folder}/generations_and_judgments_with_sae_20.json') as input_file:\n",
    "    sequences_for_few_shot_prompt = json.loads(input_file.read())"
   ]
  },
  {
   "cell_type": "code",
   "execution_count": 4,
   "metadata": {},
   "outputs": [],
   "source": [
    "no_keys = [sequences_for_few_shot_prompt[key] for key in sequences_for_few_shot_prompt]"
   ]
  },
  {
   "cell_type": "code",
   "execution_count": 5,
   "metadata": {},
   "outputs": [],
   "source": [
    "# Selecting a subset of sequences for few-shot prompts\n",
    "subset_of_sequences_for_few_shot_prompt = no_keys[-10:]\n",
    "number_of_few_shot_samples = 5"
   ]
  },
  {
   "cell_type": "code",
   "execution_count": 6,
   "metadata": {},
   "outputs": [],
   "source": [
    "# Creating template for the few-shot prompt\n",
    "prompt_template = 'Question: {} \\n Here are some ideas that were brainstormed:{}\\n Possible answer:{}\\n Is the possible answer:\\n (A) True\\n (B) False\\n The possible answer is:'\n",
    "few_shot_prompt = ''\n",
    "\n",
    "\n",
    "# Iterating through the subset of sequences to create the few-shot prompt\n",
    "for sequence in subset_of_sequences_for_few_shot_prompt[:3]:\n",
    "    question_text = sequence['prompt']\n",
    "    question_text = question_text.split('Question: ')[-1].split('Answer: ')[0]\n",
    "    generated_ideas = '\\n'.join(sequence['generations'])\n",
    "    most_probable_answer = sequence['most_probable_answer']\n",
    "    is_correct = ' True' if sequence['most_probable_answer_label'][0] == 'yes' else ' False'\n",
    "    \n",
    "    # Appending the formatted prompt to the few_shot_prompt\n",
    "    few_shot_prompt += prompt_template.format(question_text, generated_ideas, most_probable_answer) + is_correct + '\\n'\n",
    "#"
   ]
  },
  {
   "cell_type": "code",
   "execution_count": 7,
   "metadata": {},
   "outputs": [
    {
     "name": "stderr",
     "output_type": "stream",
     "text": [
      "100%|██████████| 800/800 [01:14<00:00, 10.73it/s]\n"
     ]
    }
   ],
   "source": [
    "from sklearn import metrics\n",
    "from tqdm import tqdm\n",
    "\n",
    "# Ensure that no gradients are computed during this block, for efficiency\n",
    "with torch.no_grad():\n",
    "\n",
    "    # Lists to store Area Under the Receiver Operating Characteristic (AUROC) values, probabilities of true, and correctness flags\n",
    "    probabilities_true = []\n",
    "    correctness_flags = []\n",
    "    index = 0\n",
    "    # Loop through the responses to compute the negative log likelihoods\n",
    "    for response in tqdm(no_keys[:800]):\n",
    "        question_text = response['prompt']\n",
    "\n",
    "        # Extract generated texts and the most likely answer\n",
    "        generated_ideas = '\\n'.join(response['generations'])\n",
    "        most_probable_answer = response['most_probable_answer']\n",
    "        \n",
    "        # Determine if the answer is correct based on the Judge \n",
    "        is_correct = 1.0 if response['most_probable_answer_label'] == 'yes' else 0.0\n",
    "\n",
    "        # Construct the base and true prompts\n",
    "        base_prompt_text = prompt_template.format(question_text, generated_ideas, most_probable_answer)\n",
    "        prompt_with_true_answer = few_shot_prompt + prompt_template.format(question_text, generated_ideas, most_probable_answer) + ' True'\n",
    "\n",
    "        # This computation of the negative log likelihoods follows this tutorial:   \n",
    "        # Tokenize the prompts for the model\n",
    "        tokenized_base_prompt = generation_tokenizer(base_prompt_text)['input_ids']\n",
    "        tokenized_prompt_with_true_answer = torch.tensor(generation_tokenizer(prompt_with_true_answer)['input_ids'], device=device)\n",
    "\n",
    "        # Prepare target IDs for the model\n",
    "        target_ids_with_true_answer = tokenized_prompt_with_true_answer.clone()\n",
    "        target_ids_with_true_answer[:len(tokenized_base_prompt)] = -100\n",
    "\n",
    "        # Compute the model's output and loss for the true prompt\n",
    "        model_output_with_true_answer = model(torch.reshape(tokenized_prompt_with_true_answer, (1, -1)), labels=target_ids_with_true_answer)\n",
    "        loss_with_true_answer = model_output_with_true_answer.loss\n",
    "\n",
    "        # Append the computed values to the lists\n",
    "        probabilities_true.append(loss_with_true_answer.item())\n",
    "        correctness_flags.append(is_correct)\n",
    "        \n",
    "    probabilities_true = torch.exp(-torch.tensor(probabilities_true)) \n",
    "    # Compute the AUROC for the probabilities of true\n",
    "    \n",
    "    auroc_for_true = metrics.roc_auc_score(1 - torch.tensor(correctness_flags), probabilities_true)\n"
   ]
  },
  {
   "cell_type": "code",
   "execution_count": 10,
   "metadata": {},
   "outputs": [
    {
     "data": {
      "text/plain": [
       "0.5225725132198182"
      ]
     },
     "execution_count": 10,
     "metadata": {},
     "output_type": "execute_result"
    }
   ],
   "source": [
    "auroc_for_true"
   ]
  },
  {
   "cell_type": "code",
   "execution_count": 9,
   "metadata": {},
   "outputs": [
    {
     "name": "stderr",
     "output_type": "stream",
     "text": [
      "/tmp/ipykernel_12860/2598049551.py:7: UserWarning: To copy construct from a tensor, it is recommended to use sourceTensor.clone().detach() or sourceTensor.clone().detach().requires_grad_(True), rather than torch.tensor(sourceTensor).\n",
      "  probabilities_true_tensor = torch.tensor(probabilities_true)\n"
     ]
    },
    {
     "data": {
      "image/png": "[encoded data removed]",
      "text/plain": [
       "<Figure size 600x600 with 1 Axes>"
      ]
     },
     "metadata": {},
     "output_type": "display_data"
    }
   ],
   "source": [
    "import torch\n",
    "import matplotlib.pyplot as plt\n",
    "from sklearn import metrics\n",
    "\n",
    "# Convert lists to tensors\n",
    "correctness_flags_tensor = torch.tensor(correctness_flags)\n",
    "probabilities_true_tensor = torch.tensor(probabilities_true)\n",
    "\n",
    "# Compute false positive rate, true positive rate, and thresholds\n",
    "fpr, tpr, _ = metrics.roc_curve(1 - correctness_flags_tensor.numpy(), probabilities_true_tensor.numpy())\n",
    "auroc = metrics.auc(fpr, tpr)\n",
    "\n",
    "# Plot the ROC curve\n",
    "plt.figure(figsize=(6, 6))\n",
    "plt.plot(fpr, tpr, color='blue', label=f'AUROC = {auroc:.2f}')\n",
    "plt.plot([0, 1], [0, 1], color='gray', linestyle='--')  # Diagonal reference line\n",
    "plt.xlabel('False Positive Rate')\n",
    "plt.ylabel('True Positive Rate')\n",
    "plt.title('Receiver Operating Characteristic (ROC) Curve')\n",
    "plt.legend(loc='lower right')\n",
    "plt.grid(True)\n",
    "plt.show()\n"
   ]
  },
  {
   "cell_type": "code",
   "execution_count": null,
   "metadata": {},
   "outputs": [],
   "source": []
  }
 ],
 "metadata": {
  "kernelspec": {
   "display_name": ".venv",
   "language": "python",
   "name": "python3"
  },
  "language_info": {
   "codemirror_mode": {
    "name": "ipython",
    "version": 3
   },
   "file_extension": ".py",
   "mimetype": "text/x-python",
   "name": "python",
   "nbconvert_exporter": "python",
   "pygments_lexer": "ipython3",
   "version": "3.10.12"
  }
 },
 "nbformat": 4,
 "nbformat_minor": 2
}
